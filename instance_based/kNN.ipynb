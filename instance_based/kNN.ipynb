{
 "cells": [
  {
   "cell_type": "code",
   "execution_count": 19,
   "metadata": {},
   "outputs": [],
   "source": [
    "import numpy as np\n",
    "from sklearn.metrics import classification_report\n",
    "import matplotlib.pyplot as plt\n",
    "import mnist\n",
    "from collections import Counter"
   ]
  },
  {
   "cell_type": "code",
   "execution_count": 35,
   "metadata": {
    "collapsed": true
   },
   "outputs": [],
   "source": [
    "def load_dataset(cached_dir):\n",
    "    '''\n",
    "    Get MNIST data using mnist library\n",
    "    :params cached_dir: folder path to cache mnist data\n",
    "    :return: list of train sets and test sets\n",
    "    '''\n",
    "    mnist.temporary_dir = lambda: cached_dir\n",
    "    train_images = mnist.train_images()\n",
    "    train_labels = mnist.train_labels()\n",
    "    test_images = mnist.test_images()\n",
    "    test_labels = mnist.test_labels()\n",
    "    \n",
    "    return [train_images, train_labels, test_images, test_labels]\n",
    "\n",
    "# load datasets\n",
    "mnist_dir = '../z_datasets/MNIST/'\n",
    "train_X, train_y, test_X, test_y = load_dataset(mnist_dir)"
   ]
  },
  {
   "cell_type": "code",
   "execution_count": 36,
   "metadata": {},
   "outputs": [
    {
     "name": "stdout",
     "output_type": "stream",
     "text": [
      "(60000, 28, 28) (60000,) (10000, 28, 28) (10000,)\n"
     ]
    }
   ],
   "source": [
    "# shape of datasets\n",
    "print(train_X.shape, train_y.shape, test_X.shape, test_y.shape)"
   ]
  },
  {
   "cell_type": "code",
   "execution_count": 37,
   "metadata": {},
   "outputs": [
    {
     "name": "stdout",
     "output_type": "stream",
     "text": [
      "(60000, 784) (60000,) (10000, 784) (10000,)\n"
     ]
    }
   ],
   "source": [
    "# reshape datasets\n",
    "train_X = train_X.reshape(train_X.shape[0], -1)\n",
    "test_X = test_X.reshape(test_X.shape[0], -1)\n",
    "\n",
    "print(train_X.shape, train_y.shape, test_X.shape, test_y.shape)"
   ]
  },
  {
   "cell_type": "code",
   "execution_count": 31,
   "metadata": {},
   "outputs": [
    {
     "data": {
      "image/png": "[encoded data removed]",
      "text/plain": [
       "<Figure size 432x288 with 1 Axes>"
      ]
     },
     "metadata": {},
     "output_type": "display_data"
    }
   ],
   "source": [
    "# view the nth image\n",
    "n = 1\n",
    "image = train_X[n-1].reshape(28, 28)\n",
    "label = train_y[n-1]\n",
    "plt.imshow(image, cmap='gray_r')\n",
    "plt.title('Digit {}'.format(label))\n",
    "plt.show()"
   ]
  },
  {
   "cell_type": "code",
   "execution_count": 61,
   "metadata": {},
   "outputs": [
    {
     "data": {
      "text/plain": [
       "2.0"
      ]
     },
     "execution_count": 61,
     "metadata": {},
     "output_type": "execute_result"
    }
   ],
   "source": [
    "def calculate_distance(x1, x2, r=2):\n",
    "    '''\n",
    "    Calculate the distance between 2 vectors.\n",
    "    :params x1: vector representing data point 1\n",
    "    :params x2: vector representing data point 2\n",
    "    :params r: int, coefficient of the Minkowski distance. \n",
    "                r=1: Manhattan distance, \n",
    "                r=2: Euclidean distance.\n",
    "                Default is Euclidean distance\n",
    "    :return: distance between two vectors\n",
    "    '''   \n",
    "    return np.linalg.norm(x1 - x2, ord = r) \n",
    "\n",
    "# test the calculate_distance function\n",
    "# calculate the Euclidean distance between [1, 0, 1, 0] and [0, -1, 0, -1]\n",
    "calculate_distance(np.array([1, 0, 1, 0]), np.array([0, -1, 0, -1]), 2)"
   ]
  },
  {
   "cell_type": "code",
   "execution_count": 98,
   "metadata": {},
   "outputs": [
    {
     "name": "stdout",
     "output_type": "stream",
     "text": [
      "Predicted label: 7; Expected label: 7\n"
     ]
    }
   ],
   "source": [
    "def distance_to_all_neighbors(x, train_X, train_y):\n",
    "    '''\n",
    "    :params x: vector of an image to be predicted\n",
    "    :params train_X: train image dataset\n",
    "    :params train_y: train label dataset\n",
    "    :return: a list of distance-label pairs\n",
    "    '''\n",
    "    # init a list to store the distance between x and each vector in train_X\n",
    "    N = train_X.shape[0]\n",
    "    distances = np.empty((N,), dtype=[('label', int), ('distance', float)])\n",
    "    \n",
    "    # calculate distance\n",
    "    for i in range(N):\n",
    "        distances[i] = (train_y[i], calculate_distance(x, train_X[i]))\n",
    "        \n",
    "    # sort distances by distance (shortest to longest)\n",
    "    distances.sort(order='distance')\n",
    "\n",
    "    return distances\n",
    "\n",
    "def nearest_neighbor(distances, topK):\n",
    "    '''\n",
    "    Predict the lable for image x by finding K nearest neighbors and use the most frequent label as prediction\n",
    "    :params distances: a list of distance-label pairs\n",
    "    :params topK: how many K nearest neighbors\n",
    "    :return: predicted label for x\n",
    "    '''\n",
    "    # get top K nearest neighbors with the shortest distance\n",
    "    topK_list = distances[:topK]\n",
    "    \n",
    "    # the most frequent label of the K nearest neighbors\n",
    "    topK_label, topK_distance = zip(*topK_list)\n",
    "    \n",
    "    c = Counter(topK_label)\n",
    "\n",
    "    return c.most_common(1)[0][0]\n",
    "\n",
    "# test the nearest_neighbor function\n",
    "# predict the label for the first test case\n",
    "topK = 10\n",
    "distances = distance_to_all_neighbors(test_X[0], train_X, train_y)\n",
    "r = nearest_neighbor(distances, topK)\n",
    "print('Predicted label: {}; Expected label: {}'.format(r, test_y[0]))"
   ]
  },
  {
   "cell_type": "code",
   "execution_count": 103,
   "metadata": {},
   "outputs": [
    {
     "name": "stdout",
     "output_type": "stream",
     "text": [
      "Predicting test 0 to 19\n",
      "Predicting test 20 to 39\n",
      "Predicting test 40 to 59\n",
      "Predicting test 60 to 79\n",
      "Predicting test 80 to 99\n"
     ]
    }
   ],
   "source": [
    "def predict(test_X, train_X, train_y, topK):\n",
    "    '''\n",
    "    Predict labels for cases in test_X\n",
    "    :params train_X: train image dataset\n",
    "    :params train_y: train label dataset\n",
    "    :params test_X: test image dataset\n",
    "    :params test_y: test label dataset\n",
    "    :params topK: how many K nearest neighbors\n",
    "    :return: predicted label for all tests\n",
    "    '''\n",
    "    # calculate distances between test cases and training data\n",
    "    pred = []\n",
    "    n_y = len(test_X)\n",
    "    \n",
    "    for i in range(n_y):\n",
    "        if i % 20 == 0:\n",
    "            print('Predicting test {} to {}'.format(i, min(n_y, i+20-1)))\n",
    "        distances = distance_to_all_neighbors(test_X[i], train_X, train_y)\n",
    "        nearest = nearest_neighbor(distances, topK)\n",
    "        pred.append(nearest)\n",
    "            \n",
    "    return pred\n",
    "\n",
    "predictions = predict(test_X[:100], train_X, train_y, topK)"
   ]
  },
  {
   "cell_type": "code",
   "execution_count": 104,
   "metadata": {},
   "outputs": [
    {
     "name": "stdout",
     "output_type": "stream",
     "text": [
      "0.84\n"
     ]
    }
   ],
   "source": [
    "def evaluate(topK, predictions, actual):\n",
    "    '''\n",
    "    :params topK: how many K nearest neighbors\n",
    "    :return: predicted labels for all tests\n",
    "    :actual: true labels\n",
    "    :return: accuracy\n",
    "    '''\n",
    "    accuracy = np.sum(predictions == actual)*1./len(actual)\n",
    "    return accuracy\n",
    "\n",
    "accuracy = evaluate(topK, predictions, test_y[:100])\n",
    "print(accuracy)"
   ]
  },
  {
   "cell_type": "markdown",
   "metadata": {},
   "source": [
    "Compare with `KNeighborsClassifier` from `sklearn`:"
   ]
  },
  {
   "cell_type": "code",
   "execution_count": 106,
   "metadata": {},
   "outputs": [
    {
     "name": "stderr",
     "output_type": "stream",
     "text": [
      "/Users/xinyue/anaconda2/envs/py36/lib/python3.6/site-packages/ipykernel_launcher.py:3: DataConversionWarning: A column-vector y was passed when a 1d array was expected. Please change the shape of y to (n_samples, ), for example using ravel().\n",
      "  This is separate from the ipykernel package so we can avoid doing imports until\n"
     ]
    }
   ],
   "source": [
    "from sklearn.neighbors import KNeighborsClassifier\n",
    "model = KNeighborsClassifier(n_neighbors=10)\n",
    "model.fit(train_X, train_y.reshape(-1, 1))\n",
    "\n",
    "score = model.score(test_X[:100].reshape(100, -1), test_y[:100].reshape(100, -1))"
   ]
  },
  {
   "cell_type": "code",
   "execution_count": 107,
   "metadata": {},
   "outputs": [
    {
     "data": {
      "text/plain": [
       "0.96"
      ]
     },
     "execution_count": 107,
     "metadata": {},
     "output_type": "execute_result"
    }
   ],
   "source": [
    "score"
   ]
  },
  {
   "cell_type": "markdown",
   "metadata": {
    "collapsed": true
   },
   "source": [
    "# Comment\n",
    "kNN can be very slow and computational expensive when we have a lot of data because for each test data point, we need to calculate its distance to all training data points and picking the K nearest neighbors. \n",
    "\n",
    "An alternative to kNN is KD (k-dimentional tree), a space-patitioning data structure. It's similar to binary tree search."
   ]
  }
 ],
 "metadata": {
  "kernelspec": {
   "display_name": "Python 3",
   "language": "python",
   "name": "python3"
  },
  "language_info": {
   "codemirror_mode": {
    "name": "ipython",
    "version": 3
   },
   "file_extension": ".py",
   "mimetype": "text/x-python",
   "name": "python",
   "nbconvert_exporter": "python",
   "pygments_lexer": "ipython3",
   "version": "3.6.1"
  }
 },
 "nbformat": 4,
 "nbformat_minor": 2
}
