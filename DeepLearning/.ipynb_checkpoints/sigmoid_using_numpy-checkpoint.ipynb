{
 "cells": [
  {
   "cell_type": "code",
   "execution_count": 2,
   "metadata": {
    "collapsed": true
   },
   "outputs": [],
   "source": [
    "import numpy as np"
   ]
  },
  {
   "cell_type": "markdown",
   "metadata": {},
   "source": [
    "## Sigmoid Funcion\n",
    "$sigmoid(x) = \\frac{1}{1+e^{-x}}$ is a non-linear function widely used in logistic regression in machine learning and deep learning. \n",
    "\n",
    "$x$ could be either a real number, a vector, or a matrix. More general form of the sigmoid function is as below:\n",
    "$$ \\text{For } x \\in \\mathbb{R}^n \\text{, } sigmoid(x) = sigmoid\n",
    "\\begin{pmatrix}\n",
    "    x_1  \\\\\n",
    "    x_2  \\\\\n",
    "    ...  \\\\\n",
    "    x_n  \\\\\n",
    "\\end{pmatrix} = \n",
    "\\begin{pmatrix}\n",
    "    \\frac{1}{1+e^{-x_1}}  \\\\\n",
    "    \\frac{1}{1+e^{-x_2}}  \\\\\n",
    "    ...  \\\\\n",
    "    \\frac{1}{1+e^{-x_n}}  \\\\\n",
    "\\end{pmatrix}\\tag{1} $$"
   ]
  },
  {
   "cell_type": "code",
   "execution_count": 3,
   "metadata": {
    "collapsed": true
   },
   "outputs": [],
   "source": [
    "def sigmoid(x):\n",
    "    '''\n",
    "    Compute sigmoid of x\n",
    "    \n",
    "    Arguments:\n",
    "    x: a scalar or vector/matrix represented as numpy array\n",
    "    \n",
    "    Return:\n",
    "    s: sigmoid(x)\n",
    "    '''\n",
    "    s = 1/(1 + np.exp(-x))\n",
    "    return s"
   ]
  },
  {
   "cell_type": "code",
   "execution_count": 4,
   "metadata": {},
   "outputs": [
    {
     "data": {
      "text/plain": [
       "array([0.73105858, 0.88079708, 0.95257413, 0.98201379, 0.99330715,\n",
       "       0.99752738, 0.99908895, 0.99966465, 0.99987661, 0.9999546 ])"
      ]
     },
     "execution_count": 4,
     "metadata": {},
     "output_type": "execute_result"
    }
   ],
   "source": [
    "x = np.arange(1,11,1)\n",
    "sigmoid(x)"
   ]
  },
  {
   "cell_type": "markdown",
   "metadata": {},
   "source": [
    "## Sigmoid Gradient\n",
    "In backpropagation, gradients (a.k.a. slope or derivative) of activation functions are used to optimize loss functions. Use $\\sigma(x)$ to denote the sigmoid funciton, then its derivative with respect to input x is:\n",
    "$$\\sigma'(x) = \\sigma(x) (1 - \\sigma(x))  \\tag{2}$$"
   ]
  },
  {
   "cell_type": "code",
   "execution_count": 5,
   "metadata": {
    "collapsed": true
   },
   "outputs": [],
   "source": [
    "def sigmoid_derivative(x):\n",
    "    '''\n",
    "    Compute the derivative of sigmoid(x)\n",
    "    \n",
    "    Arguments:\n",
    "    x: a scalar or vector/matrix represented as numpy array\n",
    "    \n",
    "    Return:\n",
    "    ds: derivative of sigmoid fucntion\n",
    "    '''\n",
    "    # first calculate the sigmoid function\n",
    "    s = sigmoid(x)\n",
    "\n",
    "    # then use formula (2) to compute the derivative\n",
    "    ds = s * (1-s)\n",
    "    return ds"
   ]
  },
  {
   "cell_type": "code",
   "execution_count": 6,
   "metadata": {},
   "outputs": [
    {
     "data": {
      "text/plain": [
       "array([1.96611933e-01, 1.04993585e-01, 4.51766597e-02, 1.76627062e-02,\n",
       "       6.64805667e-03, 2.46650929e-03, 9.10221180e-04, 3.35237671e-04,\n",
       "       1.23379350e-04, 4.53958077e-05])"
      ]
     },
     "execution_count": 6,
     "metadata": {},
     "output_type": "execute_result"
    }
   ],
   "source": [
    "sigmoid_derivative(x)"
   ]
  }
 ],
 "metadata": {
  "kernelspec": {
   "display_name": "Python 3",
   "language": "python",
   "name": "python3"
  },
  "language_info": {
   "codemirror_mode": {
    "name": "ipython",
    "version": 3
   },
   "file_extension": ".py",
   "mimetype": "text/x-python",
   "name": "python",
   "nbconvert_exporter": "python",
   "pygments_lexer": "ipython3",
   "version": "3.6.1"
  }
 },
 "nbformat": 4,
 "nbformat_minor": 2
}
