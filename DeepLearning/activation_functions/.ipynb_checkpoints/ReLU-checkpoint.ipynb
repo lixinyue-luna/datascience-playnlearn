{
 "cells": [
  {
   "cell_type": "code",
   "execution_count": 3,
   "metadata": {
    "collapsed": true
   },
   "outputs": [],
   "source": [
    "import numpy as np\n",
    "import matplotlib.pyplot as plt"
   ]
  },
  {
   "cell_type": "markdown",
   "metadata": {},
   "source": [
    "# ReLU\n",
    "$ReLU(x) = max(0, z)$, a.k.a. rectified linear unit activation function. It ranges from 0 to infinity. Both the function and its deriviative are monotonic. However, ReLU maps all negative valus to zero, which decreases the ability of the model to properly use the negative data.\n",
    "\n",
    "$x$ could be either a real number, a vector, or a matrix."
   ]
  },
  {
   "cell_type": "code",
   "execution_count": 6,
   "metadata": {
    "collapsed": true
   },
   "outputs": [],
   "source": [
    "def relu(x):\n",
    "    '''\n",
    "    Compute relu of x\n",
    "    \n",
    "    Arguments:\n",
    "    x: a scalar or vector/matrix represented as numpy array\n",
    "    \n",
    "    Return:\n",
    "    r: relu(x)\n",
    "    '''\n",
    "    r = np.where(x >= 0, x, 0)\n",
    "    return r"
   ]
  },
  {
   "cell_type": "code",
   "execution_count": 7,
   "metadata": {},
   "outputs": [
    {
     "data": {
      "text/plain": [
       "array([0, 0, 0, 0, 0, 0, 1, 2, 3, 4, 5])"
      ]
     },
     "execution_count": 7,
     "metadata": {},
     "output_type": "execute_result"
    }
   ],
   "source": [
    "x = np.arange(-5,6,1)\n",
    "relu(x)"
   ]
  },
  {
   "cell_type": "markdown",
   "metadata": {},
   "source": [
    "## ReLU Gradient\n",
    "In backpropagation, gradients of activation functions are used to optimize loss functions. Use $\\sigma(x)$ to denote the ReLU funciton, then its derivative with respect to input x is:\n",
    "$$\\sigma'(x) = \n",
    "\\begin{cases}\n",
    "0, & \\text{if $x<0$} \\\\\n",
    "1, & \\text{if $x\\geqslant 0$} \\\\\n",
    "\\end{cases} \\tag{2}$$"
   ]
  },
  {
   "cell_type": "code",
   "execution_count": 8,
   "metadata": {
    "collapsed": true
   },
   "outputs": [],
   "source": [
    "def relu_derivative(x):\n",
    "    '''\n",
    "    Compute the derivative of relu(x)\n",
    "    \n",
    "    Arguments:\n",
    "    x: a scalar or vector/matrix represented as numpy array\n",
    "    \n",
    "    Return:\n",
    "    ds: derivative of tanh fucntion\n",
    "    '''\n",
    "    # then use formula (2) to compute the derivative\n",
    "    dr = np.where(x >= 0, 1, 0)\n",
    "    return dr"
   ]
  },
  {
   "cell_type": "code",
   "execution_count": 9,
   "metadata": {},
   "outputs": [
    {
     "data": {
      "text/plain": [
       "array([0, 0, 0, 0, 0, 1, 1, 1, 1, 1, 1])"
      ]
     },
     "execution_count": 9,
     "metadata": {},
     "output_type": "execute_result"
    }
   ],
   "source": [
    "relu_derivative(x)"
   ]
  },
  {
   "cell_type": "code",
   "execution_count": 11,
   "metadata": {},
   "outputs": [
    {
     "data": {
      "image/png": "[encoded data removed]",
      "text/plain": [
       "<Figure size 1152x648 with 2 Axes>"
      ]
     },
     "metadata": {},
     "output_type": "display_data"
    }
   ],
   "source": [
    "# visualize the sigmoid function and its derivative\n",
    "data = np.linspace(-8, 8, 1000)\n",
    "r = relu(data)\n",
    "dr = relu_derivative(data)\n",
    "\n",
    "xticks = np.linspace(-8, 8, 33)\n",
    "r_yticks = np.linspace(-8, 8, 9)\n",
    "dr_yticks = np.linspace(0, 1, 6)\n",
    "\n",
    "plt.figure(figsize=(16, 9), clear=True)\n",
    "\n",
    "plt.subplot(211)\n",
    "plt.plot(data, r)\n",
    "plt.axhline(0, color='red', linewidth=0.8, linestyle='dashed')\n",
    "plt.axvline(0, color='red', linewidth=0.8, linestyle='dashed')\n",
    "plt.title('$relu(x)$')\n",
    "plt.xticks(xticks)\n",
    "plt.yticks(r_yticks)\n",
    "plt.xlabel('x')\n",
    "plt.ylabel('y')\n",
    "plt.xlim(-8, 8)\n",
    "plt.grid(True)\n",
    "\n",
    "plt.subplot(212)\n",
    "plt.plot(data, dr)\n",
    "plt.axvline(0, color='red', linewidth=0.8, linestyle='dashed')\n",
    "plt.title('$relu\\_derivative(x)$')\n",
    "plt.xticks(xticks)\n",
    "plt.yticks(dr_yticks)\n",
    "plt.xlabel('x')\n",
    "plt.ylabel('y')\n",
    "plt.xlim(-8, 8)\n",
    "plt.grid(True)\n",
    "\n",
    "plt.subplots_adjust(top=0.9, bottom=0.1, left=0.1, right=0.9, hspace=0.2, wspace=0.35)\n",
    "\n",
    "plt.show()"
   ]
  },
  {
   "cell_type": "code",
   "execution_count": null,
   "metadata": {
    "collapsed": true
   },
   "outputs": [],
   "source": []
  },
  {
   "cell_type": "code",
   "execution_count": null,
   "metadata": {
    "collapsed": true
   },
   "outputs": [],
   "source": []
  }
 ],
 "metadata": {
  "kernelspec": {
   "display_name": "Python 3",
   "language": "python",
   "name": "python3"
  },
  "language_info": {
   "codemirror_mode": {
    "name": "ipython",
    "version": 3
   },
   "file_extension": ".py",
   "mimetype": "text/x-python",
   "name": "python",
   "nbconvert_exporter": "python",
   "pygments_lexer": "ipython3",
   "version": "3.6.1"
  }
 },
 "nbformat": 4,
 "nbformat_minor": 2
}
