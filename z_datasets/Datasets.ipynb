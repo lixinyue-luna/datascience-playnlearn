{
 "cells": [
  {
   "cell_type": "markdown",
   "metadata": {},
   "source": [
    "# Datasets used in this project"
   ]
  },
  {
   "cell_type": "markdown",
   "metadata": {},
   "source": [
    "# Classification"
   ]
  },
  {
   "cell_type": "markdown",
   "metadata": {},
   "source": [
    "## MNIST\n",
    "The MNIST database of handwritten digits is available from here: [link](http://yann.lecun.com/exdb/mnist/). The [`mnist`](https://github.com/datapythonista/mnist) library provides a convenient way to load the MNIST dataset.\n",
    "\n",
    "This database of handwritten digits has a training set of 60,000 examples and a test set of 10,000 examples. The digits have been size-normalized and centered in a fixed-size image.\n",
    "\n",
    "This database is good for patter recognition tasks.\n",
    "\n",
    "This dataset is used in the following notebooks:"
   ]
  },
  {
   "cell_type": "markdown",
   "metadata": {},
   "source": [
    "# Time Series\n",
    "You can explore [Time Series Data Library](https://datamarket.com/data/list/?q=) for more time series data. "
   ]
  },
  {
   "cell_type": "markdown",
   "metadata": {},
   "source": [
    "## The total generation of electricity by the U.S. electric industry\n",
    "The total generation of electricity by the U.S. electric industry (monthly data for the period Jan. 1985 – Oct. 1996) is available from here: [link](https://datamarket.com/data/set/22wj/the-total-generation-of-electricity-by-the-us-electric-industry-monthly-data-for-the-period-jan-1985-oct-1996-for-recent-data-click-here#!ds=22wj&display=line)\n",
    "\n",
    "This dataset is a univariate time series data containing 142 records.\n",
    "\n",
    "This dataset is used in the following notebooks:\n",
    "1. [time_series_ARIMA_univariate](../applications/time_series/time_series_ARIMA_univariate.ipynb)\n",
    "2. [time_series_LSTM_univariate](../applications/time_series/time_series_LSTM_univariate.ipynb)"
   ]
  },
  {
   "cell_type": "code",
   "execution_count": null,
   "metadata": {
    "collapsed": true
   },
   "outputs": [],
   "source": []
  },
  {
   "cell_type": "code",
   "execution_count": null,
   "metadata": {
    "collapsed": true
   },
   "outputs": [],
   "source": []
  }
 ],
 "metadata": {
  "kernelspec": {
   "display_name": "Python 3",
   "language": "python",
   "name": "python3"
  },
  "language_info": {
   "codemirror_mode": {
    "name": "ipython",
    "version": 3
   },
   "file_extension": ".py",
   "mimetype": "text/x-python",
   "name": "python",
   "nbconvert_exporter": "python",
   "pygments_lexer": "ipython3",
   "version": "3.6.1"
  }
 },
 "nbformat": 4,
 "nbformat_minor": 2
}
